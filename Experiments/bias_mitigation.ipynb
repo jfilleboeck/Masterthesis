{
 "cells": [
  {
   "cell_type": "code",
   "execution_count": 3,
   "id": "initial_id",
   "metadata": {
    "collapsed": true,
    "ExecuteTime": {
     "end_time": "2024-02-21T15:20:44.117739Z",
     "start_time": "2024-02-21T15:20:44.115539400Z"
    }
   },
   "outputs": [],
   "source": [
    "import warnings\n",
    "warnings.filterwarnings('ignore')"
   ]
  },
  {
   "cell_type": "code",
   "outputs": [
    {
     "name": "stderr",
     "output_type": "stream",
     "text": [
      "C:\\Users\\jfill\\PycharmProjects\\Masterthesis\\venv\\lib\\site-packages\\sklearn\\datasets\\_openml.py:1022: FutureWarning: The default value of `parser` will change from `'liac-arff'` to `'auto'` in 1.4. You can set `parser='auto'` to silence this warning. Therefore, an `ImportError` will be raised from 1.4 if the dataset is dense and pandas is not installed. Note that the pandas parser may return different data types. See the Notes Section in fetch_openml's API doc for details.\n",
      "  warn(\n"
     ]
    }
   ],
   "source": [
    "import os\n",
    "import matplotlib.pyplot as plt\n",
    "import pandas as pd\n",
    "import torch\n",
    "import numpy as np\n",
    "from sklearn.metrics import mean_squared_error, f1_score\n",
    "from Dashboard.data_preprocessing import load_and_preprocess_data\n",
    "from Dashboard.model_adapter import ModelAdapter\n",
    "from sklearn.datasets import fetch_openml\n",
    "from sklearn.preprocessing import StandardScaler\n",
    "from sklearn.model_selection import train_test_split\n",
    "from sklearn.metrics import mean_squared_error, f1_score\n",
    "\n",
    "X_train, X_test, y_train, y_test, task = load_and_preprocess_data(\"adult\")\n",
    "\n",
    "\n"
   ],
   "metadata": {
    "collapsed": false,
    "ExecuteTime": {
     "end_time": "2024-02-22T08:38:17.017059600Z",
     "start_time": "2024-02-22T08:38:16.004976800Z"
    }
   },
   "id": "787af82549aa173b",
   "execution_count": 3
  },
  {
   "cell_type": "code",
   "outputs": [
    {
     "data": {
      "text/plain": "            age    fnlwgt  education-num  capital-gain  capital-loss  \\\n37193  0.244808 -0.421287      -0.030373     -0.144804     -0.217127   \n31093  0.974183 -0.138586      -1.586221     -0.144804     -0.217127   \n33814 -0.338691 -0.160982      -0.419335     -0.144804     -0.217127   \n14500 -0.776316 -0.604842      -0.419335     -0.144804     -0.217127   \n23399  0.536558 -1.526900       0.358588     -0.144804     -0.217127   \n...         ...       ...            ...           ...           ...   \n11284 -0.192816  4.225724      -0.419335     -0.144804     -0.217127   \n44732 -0.338691 -0.776874      -0.030373     -0.144804     -0.217127   \n38158 -0.776316  0.572625      -0.030373     -0.144804     -0.217127   \n860    0.536558 -0.880772       0.358588     -0.144804     -0.217127   \n15795  1.484746 -0.128274       1.525474     -0.144804     -0.217127   \n\n       hours-per-week         workclass     education         marital-status  \\\n37193       -0.034087           Private  Some-college     Married-civ-spouse   \n31093       -0.437595  Self-emp-not-inc          10th     Married-civ-spouse   \n33814       -0.034087         Local-gov       HS-grad     Married-civ-spouse   \n14500       -0.034087           Private       HS-grad          Never-married   \n23399        0.772930           Private     Assoc-voc          Never-married   \n...               ...               ...           ...                    ...   \n11284       -0.034087           Private       HS-grad  Married-spouse-absent   \n44732        0.772930           Private  Some-college     Married-civ-spouse   \n38158       -0.034087           Private  Some-college               Divorced   \n860         -0.034087         State-gov     Assoc-voc              Separated   \n15795       -2.697242           Private       Masters     Married-civ-spouse   \n\n              occupation   relationship   race     sex native-country  \n37193  Machine-op-inspct        Husband  White    Male  United-States  \n31093       Craft-repair        Husband  White    Male  United-States  \n33814       Craft-repair        Husband  White    Male  United-States  \n14500       Adm-clerical  Not-in-family  White  Female  United-States  \n23399   Transport-moving  Not-in-family  White    Male  United-States  \n...                  ...            ...    ...     ...            ...  \n11284      Other-service  Not-in-family  Black    Male  United-States  \n44732       Craft-repair        Husband  White    Male  United-States  \n38158    Exec-managerial  Not-in-family  White  Female  United-States  \n860         Adm-clerical      Unmarried  Black  Female  United-States  \n15795     Prof-specialty        Husband  White    Male  United-States  \n\n[39073 rows x 14 columns]",
      "text/html": "<div>\n<style scoped>\n    .dataframe tbody tr th:only-of-type {\n        vertical-align: middle;\n    }\n\n    .dataframe tbody tr th {\n        vertical-align: top;\n    }\n\n    .dataframe thead th {\n        text-align: right;\n    }\n</style>\n<table border=\"1\" class=\"dataframe\">\n  <thead>\n    <tr style=\"text-align: right;\">\n      <th></th>\n      <th>age</th>\n      <th>fnlwgt</th>\n      <th>education-num</th>\n      <th>capital-gain</th>\n      <th>capital-loss</th>\n      <th>hours-per-week</th>\n      <th>workclass</th>\n      <th>education</th>\n      <th>marital-status</th>\n      <th>occupation</th>\n      <th>relationship</th>\n      <th>race</th>\n      <th>sex</th>\n      <th>native-country</th>\n    </tr>\n  </thead>\n  <tbody>\n    <tr>\n      <th>37193</th>\n      <td>0.244808</td>\n      <td>-0.421287</td>\n      <td>-0.030373</td>\n      <td>-0.144804</td>\n      <td>-0.217127</td>\n      <td>-0.034087</td>\n      <td>Private</td>\n      <td>Some-college</td>\n      <td>Married-civ-spouse</td>\n      <td>Machine-op-inspct</td>\n      <td>Husband</td>\n      <td>White</td>\n      <td>Male</td>\n      <td>United-States</td>\n    </tr>\n    <tr>\n      <th>31093</th>\n      <td>0.974183</td>\n      <td>-0.138586</td>\n      <td>-1.586221</td>\n      <td>-0.144804</td>\n      <td>-0.217127</td>\n      <td>-0.437595</td>\n      <td>Self-emp-not-inc</td>\n      <td>10th</td>\n      <td>Married-civ-spouse</td>\n      <td>Craft-repair</td>\n      <td>Husband</td>\n      <td>White</td>\n      <td>Male</td>\n      <td>United-States</td>\n    </tr>\n    <tr>\n      <th>33814</th>\n      <td>-0.338691</td>\n      <td>-0.160982</td>\n      <td>-0.419335</td>\n      <td>-0.144804</td>\n      <td>-0.217127</td>\n      <td>-0.034087</td>\n      <td>Local-gov</td>\n      <td>HS-grad</td>\n      <td>Married-civ-spouse</td>\n      <td>Craft-repair</td>\n      <td>Husband</td>\n      <td>White</td>\n      <td>Male</td>\n      <td>United-States</td>\n    </tr>\n    <tr>\n      <th>14500</th>\n      <td>-0.776316</td>\n      <td>-0.604842</td>\n      <td>-0.419335</td>\n      <td>-0.144804</td>\n      <td>-0.217127</td>\n      <td>-0.034087</td>\n      <td>Private</td>\n      <td>HS-grad</td>\n      <td>Never-married</td>\n      <td>Adm-clerical</td>\n      <td>Not-in-family</td>\n      <td>White</td>\n      <td>Female</td>\n      <td>United-States</td>\n    </tr>\n    <tr>\n      <th>23399</th>\n      <td>0.536558</td>\n      <td>-1.526900</td>\n      <td>0.358588</td>\n      <td>-0.144804</td>\n      <td>-0.217127</td>\n      <td>0.772930</td>\n      <td>Private</td>\n      <td>Assoc-voc</td>\n      <td>Never-married</td>\n      <td>Transport-moving</td>\n      <td>Not-in-family</td>\n      <td>White</td>\n      <td>Male</td>\n      <td>United-States</td>\n    </tr>\n    <tr>\n      <th>...</th>\n      <td>...</td>\n      <td>...</td>\n      <td>...</td>\n      <td>...</td>\n      <td>...</td>\n      <td>...</td>\n      <td>...</td>\n      <td>...</td>\n      <td>...</td>\n      <td>...</td>\n      <td>...</td>\n      <td>...</td>\n      <td>...</td>\n      <td>...</td>\n    </tr>\n    <tr>\n      <th>11284</th>\n      <td>-0.192816</td>\n      <td>4.225724</td>\n      <td>-0.419335</td>\n      <td>-0.144804</td>\n      <td>-0.217127</td>\n      <td>-0.034087</td>\n      <td>Private</td>\n      <td>HS-grad</td>\n      <td>Married-spouse-absent</td>\n      <td>Other-service</td>\n      <td>Not-in-family</td>\n      <td>Black</td>\n      <td>Male</td>\n      <td>United-States</td>\n    </tr>\n    <tr>\n      <th>44732</th>\n      <td>-0.338691</td>\n      <td>-0.776874</td>\n      <td>-0.030373</td>\n      <td>-0.144804</td>\n      <td>-0.217127</td>\n      <td>0.772930</td>\n      <td>Private</td>\n      <td>Some-college</td>\n      <td>Married-civ-spouse</td>\n      <td>Craft-repair</td>\n      <td>Husband</td>\n      <td>White</td>\n      <td>Male</td>\n      <td>United-States</td>\n    </tr>\n    <tr>\n      <th>38158</th>\n      <td>-0.776316</td>\n      <td>0.572625</td>\n      <td>-0.030373</td>\n      <td>-0.144804</td>\n      <td>-0.217127</td>\n      <td>-0.034087</td>\n      <td>Private</td>\n      <td>Some-college</td>\n      <td>Divorced</td>\n      <td>Exec-managerial</td>\n      <td>Not-in-family</td>\n      <td>White</td>\n      <td>Female</td>\n      <td>United-States</td>\n    </tr>\n    <tr>\n      <th>860</th>\n      <td>0.536558</td>\n      <td>-0.880772</td>\n      <td>0.358588</td>\n      <td>-0.144804</td>\n      <td>-0.217127</td>\n      <td>-0.034087</td>\n      <td>State-gov</td>\n      <td>Assoc-voc</td>\n      <td>Separated</td>\n      <td>Adm-clerical</td>\n      <td>Unmarried</td>\n      <td>Black</td>\n      <td>Female</td>\n      <td>United-States</td>\n    </tr>\n    <tr>\n      <th>15795</th>\n      <td>1.484746</td>\n      <td>-0.128274</td>\n      <td>1.525474</td>\n      <td>-0.144804</td>\n      <td>-0.217127</td>\n      <td>-2.697242</td>\n      <td>Private</td>\n      <td>Masters</td>\n      <td>Married-civ-spouse</td>\n      <td>Prof-specialty</td>\n      <td>Husband</td>\n      <td>White</td>\n      <td>Male</td>\n      <td>United-States</td>\n    </tr>\n  </tbody>\n</table>\n<p>39073 rows × 14 columns</p>\n</div>"
     },
     "execution_count": 4,
     "metadata": {},
     "output_type": "execute_result"
    }
   ],
   "source": [
    "X_train"
   ],
   "metadata": {
    "collapsed": false,
    "ExecuteTime": {
     "end_time": "2024-02-22T08:38:18.343285800Z",
     "start_time": "2024-02-22T08:38:18.317823500Z"
    }
   },
   "id": "ef0b4462a6af608c",
   "execution_count": 4
  },
  {
   "cell_type": "code",
   "outputs": [
    {
     "name": "stdout",
     "output_type": "stream",
     "text": [
      "sex_Male\n",
      "True     32650\n",
      "False    16192\n",
      "Name: count, dtype: int64\n",
      "0        0\n",
      "1        0\n",
      "2        1\n",
      "3        1\n",
      "4        0\n",
      "        ..\n",
      "48837    0\n",
      "48838    1\n",
      "48839    0\n",
      "48840    0\n",
      "48841    1\n",
      "Name: class, Length: 48842, dtype: category\n",
      "Categories (2, int64): [0, 1]\n",
      "age                               0\n",
      "fnlwgt                            0\n",
      "education-num                     0\n",
      "capital-gain                      0\n",
      "capital-loss                      0\n",
      "                                 ..\n",
      "native-country_Trinadad&Tobago    0\n",
      "native-country_United-States      0\n",
      "native-country_Vietnam            0\n",
      "native-country_Yugoslavia         0\n",
      "income                            0\n",
      "Length: 98, dtype: int64\n",
      "        age    fnlwgt  education-num  capital-gain  capital-loss  \\\n",
      "0      25.0  226802.0            7.0           0.0           0.0   \n",
      "1      38.0   89814.0            9.0           0.0           0.0   \n",
      "2      28.0  336951.0           12.0           0.0           0.0   \n",
      "3      44.0  160323.0           10.0        7688.0           0.0   \n",
      "4      18.0  103497.0           10.0           0.0           0.0   \n",
      "...     ...       ...            ...           ...           ...   \n",
      "48837  27.0  257302.0           12.0           0.0           0.0   \n",
      "48838  40.0  154374.0            9.0           0.0           0.0   \n",
      "48839  58.0  151910.0            9.0           0.0           0.0   \n",
      "48840  22.0  201490.0            9.0           0.0           0.0   \n",
      "48841  52.0  287927.0            9.0       15024.0           0.0   \n",
      "\n",
      "       hours-per-week  workclass_Local-gov  workclass_Never-worked  \\\n",
      "0                40.0                False                   False   \n",
      "1                50.0                False                   False   \n",
      "2                40.0                 True                   False   \n",
      "3                40.0                False                   False   \n",
      "4                30.0                False                   False   \n",
      "...               ...                  ...                     ...   \n",
      "48837            38.0                False                   False   \n",
      "48838            40.0                False                   False   \n",
      "48839            40.0                False                   False   \n",
      "48840            20.0                False                   False   \n",
      "48841            40.0                False                   False   \n",
      "\n",
      "       workclass_Private  workclass_Self-emp-inc  ...  \\\n",
      "0                   True                   False  ...   \n",
      "1                   True                   False  ...   \n",
      "2                  False                   False  ...   \n",
      "3                   True                   False  ...   \n",
      "4                  False                   False  ...   \n",
      "...                  ...                     ...  ...   \n",
      "48837               True                   False  ...   \n",
      "48838               True                   False  ...   \n",
      "48839               True                   False  ...   \n",
      "48840               True                   False  ...   \n",
      "48841              False                    True  ...   \n",
      "\n",
      "       native-country_Puerto-Rico  native-country_Scotland  \\\n",
      "0                           False                    False   \n",
      "1                           False                    False   \n",
      "2                           False                    False   \n",
      "3                           False                    False   \n",
      "4                           False                    False   \n",
      "...                           ...                      ...   \n",
      "48837                       False                    False   \n",
      "48838                       False                    False   \n",
      "48839                       False                    False   \n",
      "48840                       False                    False   \n",
      "48841                       False                    False   \n",
      "\n",
      "       native-country_South  native-country_Taiwan  native-country_Thailand  \\\n",
      "0                     False                  False                    False   \n",
      "1                     False                  False                    False   \n",
      "2                     False                  False                    False   \n",
      "3                     False                  False                    False   \n",
      "4                     False                  False                    False   \n",
      "...                     ...                    ...                      ...   \n",
      "48837                 False                  False                    False   \n",
      "48838                 False                  False                    False   \n",
      "48839                 False                  False                    False   \n",
      "48840                 False                  False                    False   \n",
      "48841                 False                  False                    False   \n",
      "\n",
      "       native-country_Trinadad&Tobago  native-country_United-States  \\\n",
      "0                               False                          True   \n",
      "1                               False                          True   \n",
      "2                               False                          True   \n",
      "3                               False                          True   \n",
      "4                               False                          True   \n",
      "...                               ...                           ...   \n",
      "48837                           False                          True   \n",
      "48838                           False                          True   \n",
      "48839                           False                          True   \n",
      "48840                           False                          True   \n",
      "48841                           False                          True   \n",
      "\n",
      "       native-country_Vietnam  native-country_Yugoslavia  income  \n",
      "0                       False                      False       0  \n",
      "1                       False                      False       0  \n",
      "2                       False                      False       1  \n",
      "3                       False                      False       1  \n",
      "4                       False                      False       0  \n",
      "...                       ...                        ...     ...  \n",
      "48837                   False                      False       0  \n",
      "48838                   False                      False       1  \n",
      "48839                   False                      False       0  \n",
      "48840                   False                      False       0  \n",
      "48841                   False                      False       1  \n",
      "\n",
      "[48842 rows x 98 columns]\n"
     ]
    }
   ],
   "source": [
    "# Encode categorical variables\n",
    "data_encoded = pd.get_dummies(data, drop_first=True)\n",
    "#print(data_encoded['sex_Female'].value_counts())\n",
    "print(data_encoded['sex_Male'].value_counts())\n",
    "target_encoded = target.map({'>50K': 1, '<=50K': 0})\n",
    "\n",
    "print(target_encoded)\n",
    "full_df = data_encoded.copy()\n",
    "full_df['income'] = target_encoded\n",
    "empty_rows_count = full_df.isna().sum()\n",
    "print(empty_rows_count)\n",
    "full_df.dropna(inplace=True)\n",
    "print(full_df)"
   ],
   "metadata": {
    "collapsed": false,
    "ExecuteTime": {
     "end_time": "2024-02-21T15:20:50.029096300Z",
     "start_time": "2024-02-21T15:20:49.965583600Z"
    }
   },
   "id": "f654a35a5285d5ef",
   "execution_count": 5
  },
  {
   "cell_type": "code",
   "outputs": [],
   "source": [
    "from aif360.datasets import BinaryLabelDataset\n",
    "\n",
    "# Create a BinaryLabelDataset with the corrected DataFrame\n",
    "dataset = BinaryLabelDataset(df=full_df,\n",
    "                             label_names=['income'],\n",
    "                             protected_attribute_names=['sex_Male'], \n",
    "                             favorable_label=1,\n",
    "                             unfavorable_label=0)\n"
   ],
   "metadata": {
    "collapsed": false,
    "ExecuteTime": {
     "end_time": "2024-02-21T07:56:01.230033200Z",
     "start_time": "2024-02-21T07:56:01.123890Z"
    }
   },
   "id": "e388585d2a785cab",
   "execution_count": 49
  },
  {
   "cell_type": "code",
   "outputs": [
    {
     "name": "stdout",
     "output_type": "stream",
     "text": [
      "Statistical parity difference: -0.19451574596420296\n",
      "Disparate impact: 0.3596552625800337\n"
     ]
    }
   ],
   "source": [
    "from aif360.metrics import BinaryLabelDatasetMetric\n",
    "\n",
    "privileged_groups = [{'sex_Male': 1}]\n",
    "unprivileged_groups = [{'sex_Male': 0}]\n",
    "\n",
    "\n",
    "\n",
    "metric = BinaryLabelDatasetMetric(dataset, \n",
    "                                  unprivileged_groups=unprivileged_groups,\n",
    "                                  privileged_groups=privileged_groups)\n",
    "\n",
    "print(\"Statistical parity difference:\", metric.statistical_parity_difference())\n",
    "print(\"Disparate impact:\", metric.disparate_impact())\n"
   ],
   "metadata": {
    "collapsed": false,
    "ExecuteTime": {
     "end_time": "2024-02-21T07:56:12.718077800Z",
     "start_time": "2024-02-21T07:56:12.701537800Z"
    }
   },
   "id": "75a9544b7fd24d28",
   "execution_count": 50
  },
  {
   "cell_type": "code",
   "outputs": [],
   "source": [],
   "metadata": {
    "collapsed": false
   },
   "id": "72f244ccb9045419"
  }
 ],
 "metadata": {
  "kernelspec": {
   "display_name": "Python 3",
   "language": "python",
   "name": "python3"
  },
  "language_info": {
   "codemirror_mode": {
    "name": "ipython",
    "version": 2
   },
   "file_extension": ".py",
   "mimetype": "text/x-python",
   "name": "python",
   "nbconvert_exporter": "python",
   "pygments_lexer": "ipython2",
   "version": "2.7.6"
  }
 },
 "nbformat": 4,
 "nbformat_minor": 5
}
