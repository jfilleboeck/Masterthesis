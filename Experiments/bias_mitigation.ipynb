{
 "cells": [
  {
   "cell_type": "code",
   "execution_count": 2,
   "id": "initial_id",
   "metadata": {
    "collapsed": true,
    "ExecuteTime": {
     "end_time": "2024-02-21T07:06:12.907726600Z",
     "start_time": "2024-02-21T07:06:12.898177800Z"
    }
   },
   "outputs": [],
   "source": [
    "import warnings\n",
    "warnings.filterwarnings('ignore')"
   ]
  },
  {
   "cell_type": "code",
   "outputs": [],
   "source": [
    "from sklearn.datasets import fetch_openml\n",
    "import pandas as pd\n",
    "\n",
    "\n",
    "# Load the Adult dataset\n",
    "adult = fetch_openml(name='adult', version=2, as_frame=True)\n",
    "data = adult.data\n",
    "target = adult.target\n"
   ],
   "metadata": {
    "collapsed": false,
    "ExecuteTime": {
     "end_time": "2024-02-21T07:34:08.293403Z",
     "start_time": "2024-02-21T07:34:07.293495400Z"
    }
   },
   "id": "787af82549aa173b",
   "execution_count": 27
  },
  {
   "cell_type": "code",
   "outputs": [
    {
     "name": "stdout",
     "output_type": "stream",
     "text": [
      "sex_Male\n",
      "True     32650\n",
      "False    16192\n",
      "Name: count, dtype: int64\n",
      "0        0\n",
      "1        0\n",
      "2        1\n",
      "3        1\n",
      "4        0\n",
      "        ..\n",
      "48837    0\n",
      "48838    1\n",
      "48839    0\n",
      "48840    0\n",
      "48841    1\n",
      "Name: class, Length: 48842, dtype: category\n",
      "Categories (2, int64): [0, 1]\n",
      "age                               0\n",
      "fnlwgt                            0\n",
      "education-num                     0\n",
      "capital-gain                      0\n",
      "capital-loss                      0\n",
      "                                 ..\n",
      "native-country_Trinadad&Tobago    0\n",
      "native-country_United-States      0\n",
      "native-country_Vietnam            0\n",
      "native-country_Yugoslavia         0\n",
      "income                            0\n",
      "Length: 98, dtype: int64\n",
      "        age    fnlwgt  education-num  capital-gain  capital-loss  \\\n",
      "0      25.0  226802.0            7.0           0.0           0.0   \n",
      "1      38.0   89814.0            9.0           0.0           0.0   \n",
      "2      28.0  336951.0           12.0           0.0           0.0   \n",
      "3      44.0  160323.0           10.0        7688.0           0.0   \n",
      "4      18.0  103497.0           10.0           0.0           0.0   \n",
      "...     ...       ...            ...           ...           ...   \n",
      "48837  27.0  257302.0           12.0           0.0           0.0   \n",
      "48838  40.0  154374.0            9.0           0.0           0.0   \n",
      "48839  58.0  151910.0            9.0           0.0           0.0   \n",
      "48840  22.0  201490.0            9.0           0.0           0.0   \n",
      "48841  52.0  287927.0            9.0       15024.0           0.0   \n",
      "\n",
      "       hours-per-week  workclass_Local-gov  workclass_Never-worked  \\\n",
      "0                40.0                False                   False   \n",
      "1                50.0                False                   False   \n",
      "2                40.0                 True                   False   \n",
      "3                40.0                False                   False   \n",
      "4                30.0                False                   False   \n",
      "...               ...                  ...                     ...   \n",
      "48837            38.0                False                   False   \n",
      "48838            40.0                False                   False   \n",
      "48839            40.0                False                   False   \n",
      "48840            20.0                False                   False   \n",
      "48841            40.0                False                   False   \n",
      "\n",
      "       workclass_Private  workclass_Self-emp-inc  ...  \\\n",
      "0                   True                   False  ...   \n",
      "1                   True                   False  ...   \n",
      "2                  False                   False  ...   \n",
      "3                   True                   False  ...   \n",
      "4                  False                   False  ...   \n",
      "...                  ...                     ...  ...   \n",
      "48837               True                   False  ...   \n",
      "48838               True                   False  ...   \n",
      "48839               True                   False  ...   \n",
      "48840               True                   False  ...   \n",
      "48841              False                    True  ...   \n",
      "\n",
      "       native-country_Puerto-Rico  native-country_Scotland  \\\n",
      "0                           False                    False   \n",
      "1                           False                    False   \n",
      "2                           False                    False   \n",
      "3                           False                    False   \n",
      "4                           False                    False   \n",
      "...                           ...                      ...   \n",
      "48837                       False                    False   \n",
      "48838                       False                    False   \n",
      "48839                       False                    False   \n",
      "48840                       False                    False   \n",
      "48841                       False                    False   \n",
      "\n",
      "       native-country_South  native-country_Taiwan  native-country_Thailand  \\\n",
      "0                     False                  False                    False   \n",
      "1                     False                  False                    False   \n",
      "2                     False                  False                    False   \n",
      "3                     False                  False                    False   \n",
      "4                     False                  False                    False   \n",
      "...                     ...                    ...                      ...   \n",
      "48837                 False                  False                    False   \n",
      "48838                 False                  False                    False   \n",
      "48839                 False                  False                    False   \n",
      "48840                 False                  False                    False   \n",
      "48841                 False                  False                    False   \n",
      "\n",
      "       native-country_Trinadad&Tobago  native-country_United-States  \\\n",
      "0                               False                          True   \n",
      "1                               False                          True   \n",
      "2                               False                          True   \n",
      "3                               False                          True   \n",
      "4                               False                          True   \n",
      "...                               ...                           ...   \n",
      "48837                           False                          True   \n",
      "48838                           False                          True   \n",
      "48839                           False                          True   \n",
      "48840                           False                          True   \n",
      "48841                           False                          True   \n",
      "\n",
      "       native-country_Vietnam  native-country_Yugoslavia  income  \n",
      "0                       False                      False       0  \n",
      "1                       False                      False       0  \n",
      "2                       False                      False       1  \n",
      "3                       False                      False       1  \n",
      "4                       False                      False       0  \n",
      "...                       ...                        ...     ...  \n",
      "48837                   False                      False       0  \n",
      "48838                   False                      False       1  \n",
      "48839                   False                      False       0  \n",
      "48840                   False                      False       0  \n",
      "48841                   False                      False       1  \n",
      "\n",
      "[48842 rows x 98 columns]\n"
     ]
    }
   ],
   "source": [
    "# Encode categorical variables\n",
    "data_encoded = pd.get_dummies(data, drop_first=True)\n",
    "#print(data_encoded['sex_Female'].value_counts())\n",
    "print(data_encoded['sex_Male'].value_counts())\n",
    "target_encoded = target.map({'>50K': 1, '<=50K': 0})\n",
    "\n",
    "print(target_encoded)\n",
    "full_df = data_encoded.copy()\n",
    "full_df['income'] = target_encoded\n",
    "empty_rows_count = full_df.isna().sum()\n",
    "print(empty_rows_count)\n",
    "full_df.dropna(inplace=True)\n",
    "print(full_df)"
   ],
   "metadata": {
    "collapsed": false,
    "ExecuteTime": {
     "end_time": "2024-02-21T07:55:21.241699200Z",
     "start_time": "2024-02-21T07:55:21.180296600Z"
    }
   },
   "id": "f654a35a5285d5ef",
   "execution_count": 48
  },
  {
   "cell_type": "code",
   "outputs": [],
   "source": [
    "from aif360.datasets import BinaryLabelDataset\n",
    "\n",
    "# Create a BinaryLabelDataset with the corrected DataFrame\n",
    "dataset = BinaryLabelDataset(df=full_df,\n",
    "                             label_names=['income'],\n",
    "                             protected_attribute_names=['sex_Male'], \n",
    "                             favorable_label=1,\n",
    "                             unfavorable_label=0)\n"
   ],
   "metadata": {
    "collapsed": false,
    "ExecuteTime": {
     "end_time": "2024-02-21T07:56:01.230033200Z",
     "start_time": "2024-02-21T07:56:01.123890Z"
    }
   },
   "id": "e388585d2a785cab",
   "execution_count": 49
  },
  {
   "cell_type": "code",
   "outputs": [
    {
     "name": "stdout",
     "output_type": "stream",
     "text": [
      "Statistical parity difference: -0.19451574596420296\n",
      "Disparate impact: 0.3596552625800337\n"
     ]
    }
   ],
   "source": [
    "from aif360.metrics import BinaryLabelDatasetMetric\n",
    "\n",
    "privileged_groups = [{'sex_Male': 1}]\n",
    "unprivileged_groups = [{'sex_Male': 0}]\n",
    "\n",
    "\n",
    "\n",
    "metric = BinaryLabelDatasetMetric(dataset, \n",
    "                                  unprivileged_groups=unprivileged_groups,\n",
    "                                  privileged_groups=privileged_groups)\n",
    "\n",
    "print(\"Statistical parity difference:\", metric.statistical_parity_difference())\n",
    "print(\"Disparate impact:\", metric.disparate_impact())\n"
   ],
   "metadata": {
    "collapsed": false,
    "ExecuteTime": {
     "end_time": "2024-02-21T07:56:12.718077800Z",
     "start_time": "2024-02-21T07:56:12.701537800Z"
    }
   },
   "id": "75a9544b7fd24d28",
   "execution_count": 50
  },
  {
   "cell_type": "code",
   "outputs": [],
   "source": [],
   "metadata": {
    "collapsed": false
   },
   "id": "72f244ccb9045419"
  }
 ],
 "metadata": {
  "kernelspec": {
   "display_name": "Python 3",
   "language": "python",
   "name": "python3"
  },
  "language_info": {
   "codemirror_mode": {
    "name": "ipython",
    "version": 2
   },
   "file_extension": ".py",
   "mimetype": "text/x-python",
   "name": "python",
   "nbconvert_exporter": "python",
   "pygments_lexer": "ipython2",
   "version": "2.7.6"
  }
 },
 "nbformat": 4,
 "nbformat_minor": 5
}
